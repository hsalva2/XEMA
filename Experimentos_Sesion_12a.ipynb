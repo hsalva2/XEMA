{
  "nbformat": 4,
  "nbformat_minor": 0,
  "metadata": {
    "colab": {
      "provenance": [],
      "include_colab_link": true
    },
    "kernelspec": {
      "name": "python3",
      "display_name": "Python 3"
    },
    "language_info": {
      "name": "python"
    }
  },
  "cells": [
    {
      "cell_type": "markdown",
      "metadata": {
        "id": "view-in-github",
        "colab_type": "text"
      },
      "source": [
        "<a href=\"https://colab.research.google.com/github/hsalva2/XEMA/blob/main/Experimentos_Sesion_12a.ipynb\" target=\"_parent\"><img src=\"https://colab.research.google.com/assets/colab-badge.svg\" alt=\"Open In Colab\"/></a>"
      ]
    },
    {
      "cell_type": "code",
      "execution_count": null,
      "metadata": {
        "id": "RNtdk8rdtEqy"
      },
      "outputs": [],
      "source": [
        "!pip install econml"
      ]
    },
    {
      "cell_type": "code",
      "source": [
        "# Load libraries\n",
        "import numpy as np\n",
        "import pandas as pd\n",
        "from sklearn.ensemble import RandomForestRegressor\n",
        "from sklearn.linear_model import LinearRegression\n",
        "from econml.metalearners import SLearner, TLearner, XLearner"
      ],
      "metadata": {
        "id": "cM0wOkmvtYAi"
      },
      "execution_count": null,
      "outputs": []
    },
    {
      "cell_type": "code",
      "source": [
        "# Load the experiment dataset\n",
        "datos = pd.read_csv('https://raw.githubusercontent.com/carlosquintanillaa/Datasets/refs/heads/main/rotacion2.csv')\n",
        "nuevos = pd.read_csv('https://raw.githubusercontent.com/carlosquintanillaa/Datasets/refs/heads/main/rotacion3.csv')\n"
      ],
      "metadata": {
        "id": "XMY0XeqatgfD"
      },
      "execution_count": null,
      "outputs": []
    },
    {
      "cell_type": "code",
      "source": [
        "# Definicion de variables para datos de los que aprenderemos los modelos\n",
        "y = datos['y']\n",
        "T = datos['w']\n",
        "X = datos.drop(['id','y','w'],axis=1)\n",
        "X = pd.get_dummies(X,drop_first=True)\n",
        "X"
      ],
      "metadata": {
        "id": "FWKReImjziRf"
      },
      "execution_count": null,
      "outputs": []
    },
    {
      "cell_type": "code",
      "source": [
        "# Definir roles para datos nuevos\n",
        "X2 = nuevos.drop(['id'],axis=1)\n",
        "X2 = pd.get_dummies(X2,drop_first=True)\n",
        "X2"
      ],
      "metadata": {
        "id": "dnzwSouuz19B"
      },
      "execution_count": null,
      "outputs": []
    },
    {
      "cell_type": "code",
      "source": [
        "# Modelo 01 : S-Learner, Base Algorithm = Linear Regression\n",
        "est1 = SLearner(overall_model=LinearRegression())\n",
        "est1.fit(y,T,X=X)\n",
        "efecto1 = est1.effect(X2)\n",
        "decision1 = np.where(efecto1 < -0.02,1,0)"
      ],
      "metadata": {
        "id": "hOjjn2ys0R64"
      },
      "execution_count": null,
      "outputs": []
    },
    {
      "cell_type": "code",
      "source": [
        "# Modelo 02 : T-Learner, Base Algorithm = Linear Regression\n",
        "est2 = TLearner(models=LinearRegression())\n",
        "est2.fit(y,T,X=X)\n",
        "efecto2 = est2.effect(X2)\n",
        "decision2 = np.where(efecto2 < -0.02,1,0)"
      ],
      "metadata": {
        "id": "vd1tBTtA0w2m"
      },
      "execution_count": null,
      "outputs": []
    },
    {
      "cell_type": "code",
      "source": [
        "# Modelo 03 : X-Learner, Base Algorithm = Linear Regression\n",
        "est3 = XLearner(models=LinearRegression())\n",
        "est3.fit(y,T,X=X)\n",
        "efecto3 = est3.effect(X2)\n",
        "decision3 = np.where(efecto3 < -0.02,1,0)"
      ],
      "metadata": {
        "id": "35M4WwKX1sJc"
      },
      "execution_count": null,
      "outputs": []
    },
    {
      "cell_type": "code",
      "source": [
        "# Modelo 04 : S-Learner, Base Algorithm = Random Forest\n",
        "est4 = SLearner(overall_model=RandomForestRegressor(n_estimators=500))\n",
        "est4.fit(y,T,X=X)\n",
        "efecto4 = est4.effect(X2)\n",
        "decision4 = np.where(efecto4 < -0.02,1,0)"
      ],
      "metadata": {
        "id": "gy8ozEPO2CAA"
      },
      "execution_count": null,
      "outputs": []
    },
    {
      "cell_type": "code",
      "source": [
        "# Modelo 05 : T-Learner, Base Algorithm = Random Forest\n",
        "est5 = TLearner(models=RandomForestRegressor(n_estimators=500))\n",
        "est5.fit(y,T,X=X)\n",
        "efecto5 = est5.effect(X2)\n",
        "decision5 = np.where(efecto5 < -0.02,1,0)"
      ],
      "metadata": {
        "id": "OPWgeKJR2qIq"
      },
      "execution_count": null,
      "outputs": []
    },
    {
      "cell_type": "code",
      "source": [
        "# Modelo 06 : X-Learner, Base Algorithm = Random Forest\n",
        "est6 = XLearner(models=RandomForestRegressor(n_estimators=500))\n",
        "est6.fit(y,T,X=X)\n",
        "efecto6 = est6.effect(X2)\n",
        "decision6 = np.where(efecto6 < -0.02,1,0)\n"
      ],
      "metadata": {
        "id": "pGD6lniO2qRE"
      },
      "execution_count": null,
      "outputs": []
    },
    {
      "cell_type": "code",
      "source": [
        "# Pregunta de Michelle : Como exportamos estas decisiones a una hoja CSV que podamos download a nuestras computadoras?\n",
        "decisiones = pd.DataFrame({'decision1':decision1,'decision2':decision2,'decision3':decision3,'decision4':decision4,'decision5':decision5,'decision6':decision6})\n",
        "decisiones.to_csv('decisiones.csv',index=False)\n",
        "# Deberia aparecer una hoja 'decisiones.csv' en la lista de los Files (a la izquierda)\n",
        "# Para bajarla hacele right-click y hay una opcion de 'download'"
      ],
      "metadata": {
        "id": "uNMNaMG_5-Ix"
      },
      "execution_count": null,
      "outputs": []
    },
    {
      "cell_type": "markdown",
      "source": [
        "# Solo accesible al profesor"
      ],
      "metadata": {
        "id": "nElW_39kriCH"
      }
    },
    {
      "cell_type": "code",
      "source": [
        "# A partir de aqui ustedes no pueden seguir el programa porqeu no tienen el archivo rotacion4.csv\n",
        "# Solo queria ilustrarles como los evaluare\n",
        "solucion = pd.read_csv('rotacion4.csv')\n",
        "solucion.head()"
      ],
      "metadata": {
        "id": "vF_271GS3bMS"
      },
      "execution_count": null,
      "outputs": []
    },
    {
      "cell_type": "code",
      "source": [
        "# Funcion para calcular exito de las distintas soluciones\n",
        "def calculate_costs(decision: np.ndarray, solution: pd.DataFrame):\n",
        "\n",
        "    # Step 1: Create the 'Y' vector based on 'decision'\n",
        "    Y = np.where(decision == 1, solution['y1'].values, solution['y0'].values)\n",
        "\n",
        "    # Step 2: Calculate the desertion and contacts\n",
        "    desertion = np.sum(Y)\n",
        "    contacts = np.sum(decision)\n",
        "\n",
        "    # Step 3: Calculate the costs\n",
        "    cost_desertion = desertion * 2400\n",
        "    cost_contact = contacts * 50\n",
        "    total_cost = cost_desertion + cost_contact\n",
        "\n",
        "    # Print the results\n",
        "    print(f\"Total deserciones = {desertion}\")\n",
        "    print(f\"Total contactos = {contacts}\")\n",
        "    print(f\"Costo Desercion = {cost_desertion}\")\n",
        "    print(f\"Costo Contactos = {cost_contact}\")\n",
        "    print(f\"Total Costo = {total_cost}\")"
      ],
      "metadata": {
        "id": "Ob30g1jf3pZm"
      },
      "execution_count": null,
      "outputs": []
    },
    {
      "cell_type": "code",
      "source": [
        "calculate_costs(decision1,solucion)"
      ],
      "metadata": {
        "id": "G1getSzn4FwO"
      },
      "execution_count": null,
      "outputs": []
    },
    {
      "cell_type": "code",
      "source": [
        "calculate_costs(decision2,solucion)"
      ],
      "metadata": {
        "id": "f70vN8PU4Kom"
      },
      "execution_count": null,
      "outputs": []
    },
    {
      "cell_type": "code",
      "source": [
        "calculate_costs(decision3,solucion)"
      ],
      "metadata": {
        "id": "nIgsbvQ74KsN"
      },
      "execution_count": null,
      "outputs": []
    },
    {
      "cell_type": "code",
      "source": [
        "calculate_costs(decision4,solucion)"
      ],
      "metadata": {
        "id": "V84SolGU4K5h"
      },
      "execution_count": null,
      "outputs": []
    },
    {
      "cell_type": "code",
      "source": [
        "calculate_costs(decision5,solucion)"
      ],
      "metadata": {
        "id": "jSPdQFk54K8G"
      },
      "execution_count": null,
      "outputs": []
    },
    {
      "cell_type": "code",
      "source": [
        "calculate_costs(decision6,solucion)"
      ],
      "metadata": {
        "id": "7RpfL9Hb4K-l"
      },
      "execution_count": null,
      "outputs": []
    },
    {
      "cell_type": "code",
      "source": [
        "todos = np.ones(50000)\n",
        "ninguno = np.zeros(50000)"
      ],
      "metadata": {
        "id": "JzcqNJzL4LBC"
      },
      "execution_count": null,
      "outputs": []
    },
    {
      "cell_type": "code",
      "source": [
        "calculate_costs(todos,solucion)"
      ],
      "metadata": {
        "id": "ke97mzJv4w1A"
      },
      "execution_count": null,
      "outputs": []
    },
    {
      "cell_type": "code",
      "source": [
        "calculate_costs(ninguno,solucion)"
      ],
      "metadata": {
        "id": "XeZG978m4zur"
      },
      "execution_count": null,
      "outputs": []
    },
    {
      "cell_type": "code",
      "source": [],
      "metadata": {
        "id": "EnhpfhOh5Hgn"
      },
      "execution_count": null,
      "outputs": []
    }
  ]
}